{
 "cells": [
  {
   "cell_type": "code",
   "execution_count": 127,
   "id": "f99793ba-97fd-4dea-90ae-499562f4c815",
   "metadata": {},
   "outputs": [
    {
     "name": "stdout",
     "output_type": "stream",
     "text": [
      "C:\\Users\\mitla\\downloads\n"
     ]
    }
   ],
   "source": [
    "import csv\n",
    "import os\n",
    "cwd = os.getcwd()\n",
    "print(format(cwd))\n"
   ]
  },
  {
   "cell_type": "code",
   "execution_count": 129,
   "id": "402b5fd6-28b2-44ef-9876-b7027a1d3734",
   "metadata": {},
   "outputs": [],
   "source": [
    "import csv\n",
    "import os\n",
    "file = open(r\"./Height of Male and Female by Country 2022.csv\")"
   ]
  },
  {
   "cell_type": "code",
   "execution_count": 131,
   "id": "044b3e63-0a12-4886-930e-20f233535a6c",
   "metadata": {},
   "outputs": [
    {
     "data": {
      "text/plain": [
       "<_csv.reader at 0x26e64363940>"
      ]
     },
     "execution_count": 131,
     "metadata": {},
     "output_type": "execute_result"
    }
   ],
   "source": [
    "csvreader = csv.reader(file)\n",
    "csvreader"
   ]
  },
  {
   "cell_type": "code",
   "execution_count": 133,
   "id": "633ea05d-928e-4911-935c-31ba786b489c",
   "metadata": {},
   "outputs": [
    {
     "data": {
      "text/plain": [
       "['Rank',\n",
       " 'Country Name',\n",
       " 'Male Height in Cm',\n",
       " 'Female Height in Cm',\n",
       " 'Male Height in Ft',\n",
       " 'Female Height in Ft']"
      ]
     },
     "execution_count": 133,
     "metadata": {},
     "output_type": "execute_result"
    }
   ],
   "source": [
    "header = []\n",
    "header = next(csvreader)\n",
    "header"
   ]
  },
  {
   "cell_type": "code",
   "execution_count": 135,
   "id": "71ae6abf-a467-4a81-9064-a5d3f66f3c48",
   "metadata": {},
   "outputs": [
    {
     "name": "stdout",
     "output_type": "stream",
     "text": [
      "[['1', 'Netherlands', '183.78', '170.36', '6.03', '5.59'], ['2', 'Montenegro', '183.30', '169.96', '6.01', '5.58'], ['3', 'Estonia', '182.79', '168.66', '6.00', '5.53'], ['4', 'Bosnia and Herzegovina', '182.47', '167.47', '5.99', '5.49'], ['5', 'Iceland', '182.10', '168.91', '5.97', '5.54'], ['6', 'Denmark', '181.89', '169.47', '5.97', '5.56'], ['7', 'Czech Republic', '181.19', '167.96', '5.94', '5.51'], ['8', 'Latvia', '181.17', '168.81', '5.94', '5.54'], ['9', 'Slovakia', '181.02', '167.12', '5.94', '5.48'], ['10', 'Slovenia', '180.98', '167.20', '5.94', '5.49'], ['11', 'Ukraine', '180.98', '166.62', '5.94', '5.47'], ['12', 'Croatia', '180.76', '166.80', '5.93', '5.47'], ['13', 'Serbia', '180.74', '168.29', '5.93', '5.52'], ['14', 'Lithuania', '180.72', '167.63', '5.93', '5.50'], ['15', 'Poland', '180.69', '165.78', '5.93', '5.44'], ['16', 'Finland', '180.57', '166.48', '5.92', '5.46'], ['17', 'Norway', '180.48', '166.45', '5.92', '5.46'], ['18', 'Sweden', '180.46', '166.67', '5.92', '5.47'], ['19', 'Germany', '180.28', '166.18', '5.91', '5.45'], ['20', 'Dominica', '180.15', '166.89', '5.91', '5.48'], ['21', 'Bermuda', '179.72', '166.11', '5.90', '5.45'], ['22', 'Puerto Rico', '179.48', '163.06', '5.89', '5.35'], ['23', 'Greece', '179.26', '165.81', '5.88', '5.44'], ['24', 'Belgium', '179.09', '163.40', '5.88', '5.36'], ['25', 'Ireland', '179.04', '164.50', '5.87', '5.40'], ['26', 'Lebanon', '178.96', '163.67', '5.87', '5.37'], ['27', 'Andorra', '178.84', '165.53', '5.87', '5.43'], ['28', 'Antigua and Barbuda', '178.84', '165.72', '5.87', '5.44'], ['29', 'Australia', '178.77', '164.67', '5.87', '5.40'], ['30', 'Canada', '178.75', '164.73', '5.86', '5.40'], ['31', 'Switzerland', '178.73', '164.33', '5.86', '5.39'], ['32', 'Grenada', '178.70', '165.99', '5.86', '5.45'], ['33', 'Belarus', '178.69', '166.93', '5.86', '5.48'], ['34', 'France', '178.60', '164.49', '5.86', '5.40'], ['35', 'Austria', '178.52', '166.93', '5.86', '5.48'], ['36', 'Luxembourg', '178.46', '165.07', '5.86', '5.42'], ['37', 'Cook Islands', '178.32', '167.31', '5.85', '5.49'], ['38', 'French Polynesia', '178.32', '166.52', '5.85', '5.46'], ['39', 'United Kingdom', '178.21', '163.94', '5.85', '5.38'], ['40', 'Romania', '177.82', '164.73', '5.83', '5.40'], ['41', 'New Zealand', '177.72', '164.66', '5.83', '5.40'], ['42', 'Saint Vincent and the Grenadines', '177.49', '165.30', '5.82', '5.42'], ['43', 'Niue', '177.19', '167.03', '5.81', '5.48'], ['44', 'American Samoa', '177.09', '167.55', '5.81', '5.50'], ['45', 'Barbados', '177.03', '165.66', '5.81', '5.44'], ['46', 'Jamaica', '176.97', '164.32', '5.81', '5.39'], ['47', 'United States', '176.94', '163.31', '5.81', '5.36'], ['48', 'Tunisia', '176.85', '161.69', '5.80', '5.30'], ['49', 'Russia', '176.65', '164.52', '5.80', '5.40'], ['50', 'Hungary', '176.59', '162.55', '5.79', '5.33']]\n"
     ]
    }
   ],
   "source": [
    "rows = []\n",
    "for row in csvreader:\n",
    "    rows.append(row)\n",
    "print(rows[:50])"
   ]
  },
  {
   "cell_type": "code",
   "execution_count": 143,
   "id": "393815d2-80d1-4a9a-ab93-22badd850448",
   "metadata": {},
   "outputs": [],
   "source": [
    "import numpy as np\n",
    "alturas = np.array(rows)\n",
    "type(alturas[0,2])\n",
    "type(alturas[0,3])\n",
    "type(alturas[0,1])\n",
    "alturas_hombres = alturas[:,2]\n",
    "alturas_mujeres = alturas[:, 3]\n",
    "pais = alturas[:,1]"
   ]
  },
  {
   "cell_type": "code",
   "execution_count": 139,
   "id": "1fc49f5c-1d3b-466d-9b4e-b594983dc757",
   "metadata": {},
   "outputs": [
    {
     "name": "stdout",
     "output_type": "stream",
     "text": [
      "Hombres: [183.78, 183.3, 182.79, 182.47, 182.1, 181.89, 181.19, 181.17, 181.02, 180.98, 180.98, 180.76, 180.74, 180.72, 180.69, 180.57, 180.48, 180.46, 180.28, 180.15, 179.72, 179.48, 179.26, 179.09, 179.04, 178.96, 178.84, 178.84, 178.77, 178.75, 178.73, 178.7, 178.69, 178.6, 178.52, 178.46, 178.32, 178.32, 178.21, 177.82, 177.72, 177.49, 177.19, 177.09, 177.03, 176.97, 176.94, 176.85, 176.65, 176.59, 176.43, 176.43, 176.39, 176.36, 176.35, 176.18, 176.11, 176.06, 176.03, 175.98, 175.98, 175.9, 175.73, 175.66, 175.62, 175.59, 175.52, 175.5, 175.11, 175.05, 175.04, 175.02, 174.96, 174.84, 174.83, 174.76, 174.69, 174.65, 174.57, 174.51, 174.42, 174.42, 174.4, 174.38, 174.37, 174.37, 174.32, 174.17, 174.08, 174.07, 174.04, 174.0, 173.98, 173.84, 173.81, 173.79, 173.71, 173.67, 173.56, 173.53, 173.53, 173.5, 173.27, 173.16, 173.01, 172.88, 172.76, 172.75, 172.23, 172.15, 172.13, 172.07, 172.06, 171.89, 171.85, 171.84, 171.7, 171.66, 171.64, 171.61, 171.55, 171.3, 171.23, 171.22, 170.94, 170.77, 170.7, 170.69, 170.67, 170.67, 170.67, 170.62, 170.6, 170.52, 170.48, 170.46, 170.37, 170.3, 170.29, 170.26, 170.19, 170.14, 170.09, 169.91, 169.75, 169.63, 169.59, 169.57, 169.57, 169.41, 169.2, 169.01, 168.89, 168.84, 168.74, 168.6, 168.5, 168.46, 168.44, 168.43, 168.36, 168.29, 168.23, 168.18, 168.17, 168.1, 168.07, 167.92, 167.87, 167.72, 167.62, 167.34, 167.33, 167.32, 167.05, 166.98, 166.75, 166.7, 166.5, 166.43, 166.31, 166.26, 166.02, 165.68, 165.54, 165.48, 165.35, 165.26, 165.23, 165.16, 165.08, 164.42, 164.36, 164.36, 164.3, 163.1, 163.07, 162.78, 160.13]\n",
      "Mujeres: [170.36, 169.96, 168.66, 167.47, 168.91, 169.47, 167.96, 168.81, 167.12, 167.2, 166.62, 166.8, 168.29, 167.63, 165.78, 166.48, 166.45, 166.67, 166.18, 166.89, 166.11, 163.06, 165.81, 163.4, 164.5, 163.67, 165.53, 165.72, 164.67, 164.73, 164.33, 165.99, 166.93, 164.49, 166.93, 165.07, 167.31, 166.52, 163.94, 164.73, 164.66, 165.3, 167.03, 167.55, 165.66, 164.32, 163.31, 161.69, 164.52, 162.55, 165.52, 160.88, 162.56, 161.8, 161.18, 163.92, 162.03, 166.08, 163.38, 162.22, 163.24, 162.47, 162.41, 163.46, 161.18, 162.96, 163.23, 161.74, 166.08, 161.28, 162.35, 161.99, 160.1, 159.46, 160.62, 161.22, 161.22, 161.21, 160.88, 162.26, 161.81, 163.82, 163.46, 162.95, 162.83, 161.23, 161.56, 164.58, 160.53, 162.23, 160.36, 161.37, 164.28, 161.4, 159.76, 158.75, 162.78, 159.85, 160.13, 160.04, 160.7, 161.3, 160.72, 162.06, 158.94, 159.42, 158.29, 160.55, 160.58, 159.57, 160.41, 160.36, 158.5, 161.33, 157.96, 162.12, 158.44, 160.2, 159.38, 159.42, 158.14, 163.57, 158.78, 159.86, 160.29, 159.82, 158.75, 159.85, 159.89, 156.39, 158.84, 159.52, 157.58, 158.12, 160.05, 159.43, 159.81, 158.86, 157.9, 159.81, 158.19, 159.13, 161.04, 155.62, 160.26, 158.58, 155.18, 159.66, 157.82, 158.92, 157.06, 159.65, 158.43, 157.15, 158.53, 156.3, 156.11, 158.1, 158.4, 158.12, 161.73, 160.48, 158.65, 158.05, 158.72, 155.58, 155.88, 156.72, 154.28, 156.54, 157.32, 155.08, 154.77, 155.25, 155.15, 156.89, 154.39, 154.71, 155.18, 157.34, 154.9, 154.36, 156.72, 156.14, 160.06, 156.54, 154.75, 154.76, 154.14, 153.06, 152.38, 154.76, 152.39, 150.91, 155.42, 156.89, 156.79, 153.1, 152.71]\n"
     ]
    }
   ],
   "source": [
    "alturas_hombres_float = [float(numeric_string) for numeric_string in alturas_hombres]\n",
    "alturas_mujeres_float = [float(numeric_string) for numeric_string in alturas_mujeres]\n",
    "print(\"Hombres:\", alturas_hombres_float)\n",
    "print(\"Mujeres:\", alturas_mujeres_float)"
   ]
  },
  {
   "cell_type": "code",
   "execution_count": 141,
   "id": "7f52ef89-8efe-4a95-82b3-4de64e709ad4",
   "metadata": {},
   "outputs": [
    {
     "name": "stdout",
     "output_type": "stream",
     "text": [
      "La media de altura de los hombres a nivel mundial es de: 173.09\n",
      "El valor minimo de altura de los hombres a nivel mundial es de: 160.13\n",
      "El valor maximo de altura de los hombres a nivel mundial es de: 183.78\n",
      "La media de altura de las mujeres a nivel mundial es de: 160.94\n",
      "El valor minimo de altura de las mujeres a nivel mundial es de: 150.91\n",
      "El valor maximo de altura de las mujeres a nivel mundial es de: 170.36\n"
     ]
    }
   ],
   "source": [
    "\n",
    "mean_altura_hombre = mean(alturas_hombres_float)\n",
    "min_altura_hombre = min(alturas_hombres_float)\n",
    "max_altura_hombre = max(alturas_hombres_float)\n",
    "print(\"La media de altura de los hombres a nivel mundial es de: {:.2f}\".format(mean_altura_hombre))\n",
    "print(\"El valor minimo de altura de los hombres a nivel mundial es de: {:.2f}\".format(min_altura_hombre))\n",
    "print(\"El valor maximo de altura de los hombres a nivel mundial es de: {:.2f}\".format(max_altura_hombre))\n",
    "\n",
    "\n",
    "mean_altura_mujer = mean(alturas_mujeres_float)\n",
    "min_altura_mujer = min(alturas_mujeres_float)\n",
    "max_altura_mujer = max(alturas_mujeres_float)\n",
    "print(\"La media de altura de las mujeres a nivel mundial es de: {:.2f}\".format(mean_altura_mujer))\n",
    "print(\"El valor minimo de altura de las mujeres a nivel mundial es de: {:.2f}\".format(min_altura_mujer))\n",
    "print(\"El valor maximo de altura de las mujeres a nivel mundial es de: {:.2f}\".format(max_altura_mujer))\n"
   ]
  },
  {
   "cell_type": "code",
   "execution_count": 155,
   "id": "3bf9de7b-5d40-4112-b741-aec20d722bff",
   "metadata": {},
   "outputs": [
    {
     "data": {
      "text/plain": [
       "array([['139', 'Mexico', '170.29', '157.90', '5.59', '5.18']],\n",
       "      dtype='<U32')"
      ]
     },
     "execution_count": 155,
     "metadata": {},
     "output_type": "execute_result"
    }
   ],
   "source": [
    "filtro_pais_origen = (pais == \"Mexico\")\n",
    "pais_origen = alturas[filtro_pais_origen]\n",
    "pais_origen"
   ]
  }
 ],
 "metadata": {
  "kernelspec": {
   "display_name": "Python [conda env:base] *",
   "language": "python",
   "name": "conda-base-py"
  },
  "language_info": {
   "codemirror_mode": {
    "name": "ipython",
    "version": 3
   },
   "file_extension": ".py",
   "mimetype": "text/x-python",
   "name": "python",
   "nbconvert_exporter": "python",
   "pygments_lexer": "ipython3",
   "version": "3.12.7"
  }
 },
 "nbformat": 4,
 "nbformat_minor": 5
}
